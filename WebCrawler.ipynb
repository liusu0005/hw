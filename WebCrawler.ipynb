{
 "cells": [
  {
   "cell_type": "code",
   "execution_count": 1,
   "metadata": {},
   "outputs": [],
   "source": [
    "import requests\n",
    "from bs4 import BeautifulSoup as bs\n",
    "import pandas as pd\n",
    "import re"
   ]
  },
  {
   "cell_type": "code",
   "execution_count": 2,
   "metadata": {},
   "outputs": [],
   "source": [
    "def search(NCTid):\n",
    "    online = \"https://clinicaltrials.gov/ct2/show/\" + NCTid\n",
    "    req = requests.get(online)\n",
    "    webpage = req.text\n",
    "    soup = bs(webpage, 'html.parser')\n",
    "    \n",
    "    sponsor = soup.find('div', {'class': 'tr-info-text'}).string.strip()\n",
    "    compound = soup.find('table', class_='ct-data_table tr-data_table').contents[3].find_all('span', text=re.compile(r'^((?!placebo).)*$', re.I))[1].string.split(' ')[1]\n",
    "    study = soup.find('h1', class_='tr-h1 ct-sans-serif tr-solo_record').string.split('(')[-1][:-1]\n",
    "    development_stage = soup.find('table', class_='ct-data_table tr-data_table').contents[3].contents[5].span.string\n",
    "    phase = development_stage.split(' ')[-1]\n",
    "    start_time = re.split('\\s|,', soup.find_all('td', headers=\"studyInfoColData\")[-3].string)[-1]\n",
    "    if not start_time.isdigit():\n",
    "        start_time = re.split('\\s|,', soup.find_all('td', headers=\"studyInfoColData\")[-2].string)[-1]\n",
    "\n",
    "    format1 = soup.find('p', text=re.compile(r'Inclusion criteria', re.I))\n",
    "    if format1:\n",
    "        disease_inclusion = ''\n",
    "        for i in format1.parent.find_all(['p','li']):\n",
    "            if i.string:\n",
    "                if 'exclusion' in i.string or 'Exclusion' in i.string:\n",
    "                    break\n",
    "                disease_inclusion += (i.string + ';')\n",
    "    else:\n",
    "        disease_inclusion = re.split(re.compile(r'exclusion criteria', re.I), soup.find('div', text=re.compile(r'Inclusion criteria', re.I)).string)[0]\n",
    "    duration = re.search('([0-9]+)?( |-)?((W|w)eeks?|(D|d)ays?|(Y|y)ears?|(M|m)onths?) ?([0-9]+)?', soup.find(text='Primary Outcome Measures ').parent.nextSibling.nextSibling.li.contents[0]).group(0).strip()\n",
    "    \n",
    "    return pd.DataFrame({'key.readouts': [' '], 'compound': [compound], 'calss': [' '], 'development.stage': [' '], 'brand': [' '], \n",
    "                         'sponsor': [sponsor], 'study': [study], 'phase': [phase], 'NCT.id': [NCTid], \n",
    "                         'start.time': [start_time], 'online': [online], 'local': [' '], 'supp/notes': [' '], \n",
    "                         'disease.inclusion': [disease_inclusion], 'inclusion.notes': [' '], 'primary.endpoints': [' '], \n",
    "                         'duration.RCT/db.Follow-up': [duration]})"
   ]
  },
  {
   "cell_type": "code",
   "execution_count": 250,
   "metadata": {},
   "outputs": [],
   "source": [
    "sle_list = ['NCT01649765', 'NCT01345253', 'NCT00424476', 'NCT00410384', 'NCT00071487', 'NCT01632241', 'NCT01705977', 'NCT01484496', 'NCT02446912', 'NCT02446899', 'NCT01438489', \\\n",
    "                'NCT02708095', 'NCT02962960', 'NCT02847598', 'NCT02804763', 'NCT02504645', 'NCT01135459', 'NCT02885610', 'NCT02349061', 'NCT02908100', 'NCT03161483', 'NCT02660944', \\\n",
    "                 'NCT02725515', 'NCT02554019', 'NCT02472795', 'NCT02465580', 'NCT02665364', 'NCT01972568', 'NCT00624338', 'NCT00137969', 'NCT02975336', 'NCT02533570', 'NCT00119678', \\\n",
    "                 'NCT02437890', 'NCT01777256', 'NCT02265744', 'NCT01395745', 'NCT01162681', 'NCT01405196', 'NCT01283139', 'NCT01205438', 'NCT01196091', 'NCT01262365', 'NCT01261793',\\\n",
    "                 'NCT00111306', 'NCT00383214', 'NCT00624351', 'NCT00962832', 'NCT00539838']\n",
    "\n",
    "sle = pd.DataFrame()\n",
    "for disease in sle_list:\n",
    "    sle = sle.append(search(disease))"
   ]
  },
  {
   "cell_type": "code",
   "execution_count": 251,
   "metadata": {},
   "outputs": [],
   "source": [
    "sle.to_csv('SLE_webcrawler.csv')"
   ]
  },
  {
   "cell_type": "code",
   "execution_count": null,
   "metadata": {},
   "outputs": [],
   "source": []
  },
  {
   "cell_type": "code",
   "execution_count": 3,
   "metadata": {},
   "outputs": [],
   "source": [
    "rrms_list = ['NCT00676715','NCT01247324','NCT01412333','NCT00420212','NCT00451451','NCT01838668','NCT00835770','NCT00168701','NCT02634307','NCT03093324','NCT00906399',\n",
    "              'NCT00027300','NCT00030966','NCT01405820','NCT01440101','NCT00213135','NCT00436826','NCT02294058','NCT01628393','NCT02047734','NCT02425644','NCT02907177',\n",
    "              'NCT01006265','NCT01457924','NCT00640328','NCT02792218','NCT02792231','NCT01185821','NCT00879658','NCT01665144','NCT00289978','NCT00355134','NCT00537082',\n",
    "              'NCT00333138','NCT00340834']\n",
    "\n",
    "rrms = pd.DataFrame()\n",
    "for disease in rrms_list:\n",
    "    rrms = rrms.append(search(disease))"
   ]
  },
  {
   "cell_type": "code",
   "execution_count": 7,
   "metadata": {},
   "outputs": [],
   "source": [
    "rrms.to_csv('RRMS_webcrawler.csv', index=False) "
   ]
  }
 ],
 "metadata": {
  "kernelspec": {
   "display_name": "Python 3.8.5",
   "language": "python",
   "name": "python3"
  },
  "language_info": {
   "codemirror_mode": {
    "name": "ipython",
    "version": 3
   },
   "file_extension": ".py",
   "mimetype": "text/x-python",
   "name": "python",
   "nbconvert_exporter": "python",
   "pygments_lexer": "ipython3",
   "version": "3.8.5"
  }
 },
 "nbformat": 4,
 "nbformat_minor": 4
}
